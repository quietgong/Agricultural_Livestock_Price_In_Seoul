{
 "cells": [
  {
   "cell_type": "code",
   "execution_count": 5,
   "metadata": {},
   "outputs": [],
   "source": [
    "import pandas as pd\n",
    "df = pd.read_csv('C:/Users/quiet/Agricultural_Livestock_Price_In_Seoul/생필품 농수축산물 가격 정보(2013~2020).csv', encoding='euc-kr')"
   ]
  },
  {
   "cell_type": "code",
   "execution_count": 6,
   "metadata": {},
   "outputs": [
    {
     "data": {
      "text/html": [
       "<div>\n",
       "<style scoped>\n",
       "    .dataframe tbody tr th:only-of-type {\n",
       "        vertical-align: middle;\n",
       "    }\n",
       "\n",
       "    .dataframe tbody tr th {\n",
       "        vertical-align: top;\n",
       "    }\n",
       "\n",
       "    .dataframe thead th {\n",
       "        text-align: right;\n",
       "    }\n",
       "</style>\n",
       "<table border=\"1\" class=\"dataframe\">\n",
       "  <thead>\n",
       "    <tr style=\"text-align: right;\">\n",
       "      <th></th>\n",
       "      <th>일련번호</th>\n",
       "      <th>시장/마트 번호</th>\n",
       "      <th>시장/마트 이름</th>\n",
       "      <th>품목 번호</th>\n",
       "      <th>품목 이름</th>\n",
       "      <th>실판매규격</th>\n",
       "      <th>가격(원)</th>\n",
       "      <th>년도-월</th>\n",
       "      <th>비고</th>\n",
       "      <th>시장유형 구분(시장/마트) 코드</th>\n",
       "      <th>시장유형 구분(시장/마트) 이름</th>\n",
       "      <th>자치구 코드</th>\n",
       "      <th>자치구 이름</th>\n",
       "      <th>점검일자</th>\n",
       "    </tr>\n",
       "  </thead>\n",
       "  <tbody>\n",
       "    <tr>\n",
       "      <th>0</th>\n",
       "      <td>1173669</td>\n",
       "      <td>55.0</td>\n",
       "      <td>광장시장</td>\n",
       "      <td>305.0</td>\n",
       "      <td>사과(부사, 300g)</td>\n",
       "      <td>1개</td>\n",
       "      <td>2500.0</td>\n",
       "      <td>17-Dec</td>\n",
       "      <td>국내산 의성</td>\n",
       "      <td>1.0</td>\n",
       "      <td>전통시장</td>\n",
       "      <td>110000.0</td>\n",
       "      <td>종로구</td>\n",
       "      <td>2017-12-28</td>\n",
       "    </tr>\n",
       "    <tr>\n",
       "      <th>1</th>\n",
       "      <td>1173670</td>\n",
       "      <td>55.0</td>\n",
       "      <td>광장시장</td>\n",
       "      <td>306.0</td>\n",
       "      <td>배(신고, 600g)</td>\n",
       "      <td>1개</td>\n",
       "      <td>3000.0</td>\n",
       "      <td>17-Dec</td>\n",
       "      <td>국내산</td>\n",
       "      <td>1.0</td>\n",
       "      <td>전통시장</td>\n",
       "      <td>110000.0</td>\n",
       "      <td>종로구</td>\n",
       "      <td>2017-12-28</td>\n",
       "    </tr>\n",
       "    <tr>\n",
       "      <th>2</th>\n",
       "      <td>1173671</td>\n",
       "      <td>55.0</td>\n",
       "      <td>광장시장</td>\n",
       "      <td>307.0</td>\n",
       "      <td>배추(2.5~3kg)</td>\n",
       "      <td>1포기</td>\n",
       "      <td>4000.0</td>\n",
       "      <td>17-Dec</td>\n",
       "      <td>국내산 전라도(</td>\n",
       "      <td>1.0</td>\n",
       "      <td>전통시장</td>\n",
       "      <td>110000.0</td>\n",
       "      <td>종로구</td>\n",
       "      <td>2017-12-28</td>\n",
       "    </tr>\n",
       "  </tbody>\n",
       "</table>\n",
       "</div>"
      ],
      "text/plain": [
       "      일련번호  시장/마트 번호 시장/마트 이름  품목 번호         품목 이름 실판매규격   가격(원)    년도-월  \\\n",
       "0  1173669      55.0     광장시장  305.0  사과(부사, 300g)    1개  2500.0  17-Dec   \n",
       "1  1173670      55.0     광장시장  306.0   배(신고, 600g)    1개  3000.0  17-Dec   \n",
       "2  1173671      55.0     광장시장  307.0   배추(2.5~3kg)   1포기  4000.0  17-Dec   \n",
       "\n",
       "         비고  시장유형 구분(시장/마트) 코드 시장유형 구분(시장/마트) 이름    자치구 코드 자치구 이름        점검일자  \n",
       "0    국내산 의성                1.0              전통시장  110000.0    종로구  2017-12-28  \n",
       "1       국내산                1.0              전통시장  110000.0    종로구  2017-12-28  \n",
       "2  국내산 전라도(                1.0              전통시장  110000.0    종로구  2017-12-28  "
      ]
     },
     "execution_count": 6,
     "metadata": {},
     "output_type": "execute_result"
    }
   ],
   "source": [
    "df.head(3)"
   ]
  },
  {
   "cell_type": "code",
   "execution_count": 7,
   "metadata": {},
   "outputs": [
    {
     "data": {
      "text/plain": [
       "(348415, 14)"
      ]
     },
     "execution_count": 7,
     "metadata": {},
     "output_type": "execute_result"
    }
   ],
   "source": [
    "df.shape"
   ]
  },
  {
   "cell_type": "code",
   "execution_count": 8,
   "metadata": {},
   "outputs": [
    {
     "name": "stdout",
     "output_type": "stream",
     "text": [
      "<class 'pandas.core.frame.DataFrame'>\n",
      "RangeIndex: 348415 entries, 0 to 348414\n",
      "Data columns (total 14 columns):\n",
      " #   Column             Non-Null Count   Dtype  \n",
      "---  ------             --------------   -----  \n",
      " 0   일련번호               348415 non-null  object \n",
      " 1   시장/마트 번호           348414 non-null  float64\n",
      " 2   시장/마트 이름           348414 non-null  object \n",
      " 3   품목 번호              348414 non-null  float64\n",
      " 4   품목 이름              348401 non-null  object \n",
      " 5   실판매규격              348414 non-null  object \n",
      " 6   가격(원)              348414 non-null  float64\n",
      " 7   년도-월               348414 non-null  object \n",
      " 8   비고                 261337 non-null  object \n",
      " 9   시장유형 구분(시장/마트) 코드  348414 non-null  float64\n",
      " 10  시장유형 구분(시장/마트) 이름  348414 non-null  object \n",
      " 11  자치구 코드             348414 non-null  float64\n",
      " 12  자치구 이름             348414 non-null  object \n",
      " 13  점검일자               348414 non-null  object \n",
      "dtypes: float64(5), object(9)\n",
      "memory usage: 37.2+ MB\n"
     ]
    }
   ],
   "source": [
    "df.info()"
   ]
  }
 ],
 "metadata": {
  "kernelspec": {
   "display_name": "Python 3",
   "language": "python",
   "name": "python3"
  },
  "language_info": {
   "codemirror_mode": {
    "name": "ipython",
    "version": 3
   },
   "file_extension": ".py",
   "mimetype": "text/x-python",
   "name": "python",
   "nbconvert_exporter": "python",
   "pygments_lexer": "ipython3",
   "version": "3.8.3"
  }
 },
 "nbformat": 4,
 "nbformat_minor": 4
}
